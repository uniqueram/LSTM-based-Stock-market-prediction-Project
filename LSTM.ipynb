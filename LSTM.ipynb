{
 "cells": [
  {
   "cell_type": "code",
   "execution_count": 119,
   "id": "894dbbdb",
   "metadata": {},
   "outputs": [],
   "source": [
    "#LSTM"
   ]
  },
  {
   "cell_type": "code",
   "execution_count": 120,
   "id": "8d6f8ab9",
   "metadata": {},
   "outputs": [],
   "source": [
    "import math\n",
    "import numpy as np\n",
    "import pandas as pd\n",
    "from sklearn.preprocessing import MinMaxScaler\n",
    "from sklearn.metrics import r2_score\n",
    "from keras.models import Sequential\n",
    "from keras.layers import Dense, LSTM \n",
    "import matplotlib.pyplot as plt\n",
    "plt.style.use('fivethirtyeight')\n"
   ]
  },
  {
   "cell_type": "code",
   "execution_count": null,
   "id": "128abd1b",
   "metadata": {},
   "outputs": [],
   "source": []
  },
  {
   "cell_type": "code",
   "execution_count": 121,
   "id": "53db7d25",
   "metadata": {},
   "outputs": [
    {
     "data": {
      "text/html": [
       "<div>\n",
       "<style scoped>\n",
       "    .dataframe tbody tr th:only-of-type {\n",
       "        vertical-align: middle;\n",
       "    }\n",
       "\n",
       "    .dataframe tbody tr th {\n",
       "        vertical-align: top;\n",
       "    }\n",
       "\n",
       "    .dataframe thead th {\n",
       "        text-align: right;\n",
       "    }\n",
       "</style>\n",
       "<table border=\"1\" class=\"dataframe\">\n",
       "  <thead>\n",
       "    <tr style=\"text-align: right;\">\n",
       "      <th></th>\n",
       "      <th>Index</th>\n",
       "    </tr>\n",
       "    <tr>\n",
       "      <th>Date</th>\n",
       "      <th></th>\n",
       "    </tr>\n",
       "  </thead>\n",
       "  <tbody>\n",
       "    <tr>\n",
       "      <th>2021-07-13</th>\n",
       "      <td>2871.04</td>\n",
       "    </tr>\n",
       "    <tr>\n",
       "      <th>2021-07-12</th>\n",
       "      <td>2854.77</td>\n",
       "    </tr>\n",
       "    <tr>\n",
       "      <th>2021-07-11</th>\n",
       "      <td>2899.82</td>\n",
       "    </tr>\n",
       "    <tr>\n",
       "      <th>2021-07-08</th>\n",
       "      <td>2824.90</td>\n",
       "    </tr>\n",
       "    <tr>\n",
       "      <th>2021-07-07</th>\n",
       "      <td>2801.13</td>\n",
       "    </tr>\n",
       "    <tr>\n",
       "      <th>...</th>\n",
       "      <td>...</td>\n",
       "    </tr>\n",
       "    <tr>\n",
       "      <th>2014-02-06</th>\n",
       "      <td>785.78</td>\n",
       "    </tr>\n",
       "    <tr>\n",
       "      <th>2014-02-05</th>\n",
       "      <td>781.38</td>\n",
       "    </tr>\n",
       "    <tr>\n",
       "      <th>2014-02-04</th>\n",
       "      <td>774.91</td>\n",
       "    </tr>\n",
       "    <tr>\n",
       "      <th>2014-02-03</th>\n",
       "      <td>769.51</td>\n",
       "    </tr>\n",
       "    <tr>\n",
       "      <th>2014-02-02</th>\n",
       "      <td>775.92</td>\n",
       "    </tr>\n",
       "  </tbody>\n",
       "</table>\n",
       "<p>1680 rows × 1 columns</p>\n",
       "</div>"
      ],
      "text/plain": [
       "              Index\n",
       "Date               \n",
       "2021-07-13  2871.04\n",
       "2021-07-12  2854.77\n",
       "2021-07-11  2899.82\n",
       "2021-07-08  2824.90\n",
       "2021-07-07  2801.13\n",
       "...             ...\n",
       "2014-02-06   785.78\n",
       "2014-02-05   781.38\n",
       "2014-02-04   774.91\n",
       "2014-02-03   769.51\n",
       "2014-02-02   775.92\n",
       "\n",
       "[1680 rows x 1 columns]"
      ]
     },
     "execution_count": 121,
     "metadata": {},
     "output_type": "execute_result"
    }
   ],
   "source": [
    "df= pd.read_csv(\"E:\\\\final year project\\\\project\\\\df.csv\", parse_dates=['Date'], index_col=\"Date\")\n",
    "df"
   ]
  },
  {
   "cell_type": "code",
   "execution_count": 122,
   "id": "78f16c27",
   "metadata": {},
   "outputs": [
    {
     "data": {
      "text/html": [
       "<div>\n",
       "<style scoped>\n",
       "    .dataframe tbody tr th:only-of-type {\n",
       "        vertical-align: middle;\n",
       "    }\n",
       "\n",
       "    .dataframe tbody tr th {\n",
       "        vertical-align: top;\n",
       "    }\n",
       "\n",
       "    .dataframe thead th {\n",
       "        text-align: right;\n",
       "    }\n",
       "</style>\n",
       "<table border=\"1\" class=\"dataframe\">\n",
       "  <thead>\n",
       "    <tr style=\"text-align: right;\">\n",
       "      <th></th>\n",
       "      <th>Index</th>\n",
       "    </tr>\n",
       "    <tr>\n",
       "      <th>Date</th>\n",
       "      <th></th>\n",
       "    </tr>\n",
       "  </thead>\n",
       "  <tbody>\n",
       "    <tr>\n",
       "      <th>2014-02-02</th>\n",
       "      <td>775.92</td>\n",
       "    </tr>\n",
       "    <tr>\n",
       "      <th>2014-02-03</th>\n",
       "      <td>769.51</td>\n",
       "    </tr>\n",
       "    <tr>\n",
       "      <th>2014-02-04</th>\n",
       "      <td>774.91</td>\n",
       "    </tr>\n",
       "    <tr>\n",
       "      <th>2014-02-05</th>\n",
       "      <td>781.38</td>\n",
       "    </tr>\n",
       "    <tr>\n",
       "      <th>2014-02-06</th>\n",
       "      <td>785.78</td>\n",
       "    </tr>\n",
       "    <tr>\n",
       "      <th>...</th>\n",
       "      <td>...</td>\n",
       "    </tr>\n",
       "    <tr>\n",
       "      <th>2021-07-07</th>\n",
       "      <td>2801.13</td>\n",
       "    </tr>\n",
       "    <tr>\n",
       "      <th>2021-07-08</th>\n",
       "      <td>2824.90</td>\n",
       "    </tr>\n",
       "    <tr>\n",
       "      <th>2021-07-11</th>\n",
       "      <td>2899.82</td>\n",
       "    </tr>\n",
       "    <tr>\n",
       "      <th>2021-07-12</th>\n",
       "      <td>2854.77</td>\n",
       "    </tr>\n",
       "    <tr>\n",
       "      <th>2021-07-13</th>\n",
       "      <td>2871.04</td>\n",
       "    </tr>\n",
       "  </tbody>\n",
       "</table>\n",
       "<p>1680 rows × 1 columns</p>\n",
       "</div>"
      ],
      "text/plain": [
       "              Index\n",
       "Date               \n",
       "2014-02-02   775.92\n",
       "2014-02-03   769.51\n",
       "2014-02-04   774.91\n",
       "2014-02-05   781.38\n",
       "2014-02-06   785.78\n",
       "...             ...\n",
       "2021-07-07  2801.13\n",
       "2021-07-08  2824.90\n",
       "2021-07-11  2899.82\n",
       "2021-07-12  2854.77\n",
       "2021-07-13  2871.04\n",
       "\n",
       "[1680 rows x 1 columns]"
      ]
     },
     "execution_count": 122,
     "metadata": {},
     "output_type": "execute_result"
    }
   ],
   "source": [
    "df_1=df.iloc[::-1]\n",
    "df_1"
   ]
  },
  {
   "cell_type": "code",
   "execution_count": 123,
   "id": "591328c9",
   "metadata": {},
   "outputs": [
    {
     "name": "stderr",
     "output_type": "stream",
     "text": [
      "<ipython-input-123-66eec3124ccf>:6: MatplotlibDeprecationWarning: Adding an axes using the same arguments as a previous axes currently reuses the earlier instance.  In a future version, a new instance will always be created and returned.  Meanwhile, this warning can be suppressed, and the future behavior ensured, by passing a unique label to each axes instance.\n",
      "  ax = plt.axes()\n"
     ]
    },
    {
     "data": {
      "image/png": "[encoded data removed]",
      "text/plain": [
       "<Figure size 1152x576 with 1 Axes>"
      ]
     },
     "metadata": {},
     "output_type": "display_data"
    }
   ],
   "source": [
    "plt.figure(figsize=(16,8))\n",
    "plt.title('NEPSE Index History')\n",
    "plt.plot(df['Index'])\n",
    "plt.xlabel('Date', fontsize=18)\n",
    "plt.ylabel('Index value', fontsize=18)\n",
    "ax = plt.axes()\n",
    "plt.grid(False)\n",
    "ax.set_facecolor(\"White\")\n",
    "plt.show()"
   ]
  },
  {
   "cell_type": "code",
   "execution_count": 124,
   "id": "c7d0736b",
   "metadata": {},
   "outputs": [
    {
     "data": {
      "text/plain": [
       "1344"
      ]
     },
     "execution_count": 124,
     "metadata": {},
     "output_type": "execute_result"
    }
   ],
   "source": [
    "#convert the dataframe to numpy array\n",
    "dataset=df_1.values\n",
    "#Get the number of rows to train the model on\n",
    "training_data_len= math.ceil(len(dataset)*.8)\n",
    "\n",
    "training_data_len"
   ]
  },
  {
   "cell_type": "code",
   "execution_count": 125,
   "id": "2e9242bb",
   "metadata": {},
   "outputs": [
    {
     "data": {
      "text/plain": [
       "array([[0.00921685],\n",
       "       [0.00639411],\n",
       "       [0.00877208],\n",
       "       ...,\n",
       "       [0.94450952],\n",
       "       [0.92467105],\n",
       "       [0.9318358 ]])"
      ]
     },
     "execution_count": 125,
     "metadata": {},
     "output_type": "execute_result"
    }
   ],
   "source": [
    "#Scale the data\n",
    "scaler = MinMaxScaler(feature_range=(0,1))\n",
    "scaled_data = scaler.fit_transform(dataset)\n",
    "\n",
    "scaled_data"
   ]
  },
  {
   "cell_type": "code",
   "execution_count": 126,
   "id": "e0c79608",
   "metadata": {},
   "outputs": [
    {
     "name": "stdout",
     "output_type": "stream",
     "text": [
      "[array([0.00921685, 0.00639411, 0.00877208, 0.01162125, 0.01355886,\n",
      "       0.01277501, 0.0211992 , 0.0183016 , 0.01908545, 0.02118599,\n",
      "       0.02040214, 0.02146342, 0.02623258, 0.02980395, 0.03385091,\n",
      "       0.03298339, 0.03278522, 0.03113826, 0.0246825 , 0.01984288,\n",
      "       0.02443149, 0.02230893, 0.01827958, 0.01698931, 0.01453207,\n",
      "       0.01123813, 0.01236987, 0.00596695, 0.        , 0.00436843,\n",
      "       0.00893502, 0.00870603, 0.01222895, 0.01122932, 0.01146272,\n",
      "       0.0124007 , 0.0163816 , 0.02025682, 0.02112434, 0.02007627,\n",
      "       0.01865389, 0.01802857, 0.02057829, 0.02481461, 0.02759331,\n",
      "       0.02800285, 0.02486745, 0.02471773, 0.02354195, 0.02338342,\n",
      "       0.02663332, 0.02879551, 0.02802047, 0.02605644, 0.0269768 ,\n",
      "       0.03005496, 0.03334449, 0.04690335, 0.04690335, 0.04899509])]\n",
      "[0.044816015219037886]\n",
      "\n",
      "[array([0.00921685, 0.00639411, 0.00877208, 0.01162125, 0.01355886,\n",
      "       0.01277501, 0.0211992 , 0.0183016 , 0.01908545, 0.02118599,\n",
      "       0.02040214, 0.02146342, 0.02623258, 0.02980395, 0.03385091,\n",
      "       0.03298339, 0.03278522, 0.03113826, 0.0246825 , 0.01984288,\n",
      "       0.02443149, 0.02230893, 0.01827958, 0.01698931, 0.01453207,\n",
      "       0.01123813, 0.01236987, 0.00596695, 0.        , 0.00436843,\n",
      "       0.00893502, 0.00870603, 0.01222895, 0.01122932, 0.01146272,\n",
      "       0.0124007 , 0.0163816 , 0.02025682, 0.02112434, 0.02007627,\n",
      "       0.01865389, 0.01802857, 0.02057829, 0.02481461, 0.02759331,\n",
      "       0.02800285, 0.02486745, 0.02471773, 0.02354195, 0.02338342,\n",
      "       0.02663332, 0.02879551, 0.02802047, 0.02605644, 0.0269768 ,\n",
      "       0.03005496, 0.03334449, 0.04690335, 0.04690335, 0.04899509]), array([0.00639411, 0.00877208, 0.01162125, 0.01355886, 0.01277501,\n",
      "       0.0211992 , 0.0183016 , 0.01908545, 0.02118599, 0.02040214,\n",
      "       0.02146342, 0.02623258, 0.02980395, 0.03385091, 0.03298339,\n",
      "       0.03278522, 0.03113826, 0.0246825 , 0.01984288, 0.02443149,\n",
      "       0.02230893, 0.01827958, 0.01698931, 0.01453207, 0.01123813,\n",
      "       0.01236987, 0.00596695, 0.        , 0.00436843, 0.00893502,\n",
      "       0.00870603, 0.01222895, 0.01122932, 0.01146272, 0.0124007 ,\n",
      "       0.0163816 , 0.02025682, 0.02112434, 0.02007627, 0.01865389,\n",
      "       0.01802857, 0.02057829, 0.02481461, 0.02759331, 0.02800285,\n",
      "       0.02486745, 0.02471773, 0.02354195, 0.02338342, 0.02663332,\n",
      "       0.02879551, 0.02802047, 0.02605644, 0.0269768 , 0.03005496,\n",
      "       0.03334449, 0.04690335, 0.04690335, 0.04899509, 0.04481602])]\n",
      "[0.044816015219037886, 0.041676207923059316]\n",
      "\n"
     ]
    }
   ],
   "source": [
    "#create the training data set\n",
    "\n",
    "train_data = scaled_data[0:training_data_len,:]\n",
    "#split the data\n",
    "\n",
    "x_train = []\n",
    "y_train = []\n",
    "\n",
    "for i in range(60,len(train_data)):\n",
    "    x_train.append(train_data[i-60:i,0])\n",
    "    y_train.append(train_data[i,0])\n",
    "    if i<= 61:\n",
    "        print(x_train)\n",
    "        print(y_train)\n",
    "        print()"
   ]
  },
  {
   "cell_type": "code",
   "execution_count": 127,
   "id": "b339113e",
   "metadata": {},
   "outputs": [],
   "source": [
    "#convert the x_train and y_train to numpy array\n",
    "\n",
    "x_train, y_train = np.array(x_train), np.array(y_train)\n"
   ]
  },
  {
   "cell_type": "code",
   "execution_count": 128,
   "id": "e0a51c9f",
   "metadata": {},
   "outputs": [],
   "source": [
    "#reshape the data\n",
    "x_train = np.reshape(x_train,(x_train.shape[0],x_train.shape[1],1))"
   ]
  },
  {
   "cell_type": "code",
   "execution_count": 129,
   "id": "259cebb0",
   "metadata": {},
   "outputs": [],
   "source": [
    "#Build the LSTM model\n",
    "model = Sequential()\n",
    "model.add(LSTM(50, return_sequences= True, input_shape=(x_train.shape[1],1)))\n",
    "model.add(LSTM(50, return_sequences= False))\n",
    "model.add(Dense(25))\n",
    "model.add(Dense(1))"
   ]
  },
  {
   "cell_type": "code",
   "execution_count": 130,
   "id": "415286b5",
   "metadata": {},
   "outputs": [],
   "source": [
    "#Compile the model\n",
    "\n",
    "model.compile(optimizer='adam', loss='mean_squared_error')"
   ]
  },
  {
   "cell_type": "code",
   "execution_count": 131,
   "id": "1e896736",
   "metadata": {},
   "outputs": [
    {
     "name": "stdout",
     "output_type": "stream",
     "text": [
      "1284/1284 [==============================] - 22s 16ms/step - loss: 6.2754e-04\n"
     ]
    },
    {
     "data": {
      "text/plain": [
       "<keras.callbacks.History at 0x2630a5e33d0>"
      ]
     },
     "execution_count": 131,
     "metadata": {},
     "output_type": "execute_result"
    }
   ],
   "source": [
    "#train the model\n",
    "model.fit(x_train, y_train, batch_size=1, epochs=1)"
   ]
  },
  {
   "cell_type": "code",
   "execution_count": 132,
   "id": "9a61b4d5",
   "metadata": {},
   "outputs": [],
   "source": [
    "#create the testing data set\n",
    "test_data = scaled_data[training_data_len - 60:,:]\n",
    "\n",
    "x_test = []\n",
    "y_test = dataset[training_data_len:,:]\n",
    "\n",
    "for i in range (60, len(test_data)):\n",
    "    x_test.append(test_data[i-60:i,0])"
   ]
  },
  {
   "cell_type": "code",
   "execution_count": 133,
   "id": "ca96dedf",
   "metadata": {},
   "outputs": [],
   "source": [
    "#convert the data to a numpy array\n",
    "\n",
    "x_test = np.array(x_test)\n"
   ]
  },
  {
   "cell_type": "code",
   "execution_count": 134,
   "id": "8861e948",
   "metadata": {},
   "outputs": [],
   "source": [
    "x_test = np.reshape(x_test,(x_test.shape[0],x_test.shape[1],1))"
   ]
  },
  {
   "cell_type": "code",
   "execution_count": 135,
   "id": "95ef0b41",
   "metadata": {},
   "outputs": [],
   "source": [
    "#Get the models predicted price values\n",
    "predictions = model.predict(x_test)\n",
    "predictions = scaler.inverse_transform(predictions)"
   ]
  },
  {
   "cell_type": "code",
   "execution_count": 136,
   "id": "6124e94f",
   "metadata": {},
   "outputs": [
    {
     "data": {
      "text/plain": [
       "103.748165456882"
      ]
     },
     "execution_count": 136,
     "metadata": {},
     "output_type": "execute_result"
    }
   ],
   "source": [
    "#Get the root mean squared error (RMSE)\n",
    "\n",
    "rmse=np.sqrt(np.mean(((predictions- y_test)**2)))\n",
    "rmse"
   ]
  },
  {
   "cell_type": "code",
   "execution_count": 137,
   "id": "05e23c44",
   "metadata": {},
   "outputs": [
    {
     "name": "stderr",
     "output_type": "stream",
     "text": [
      "<ipython-input-137-3f6c19d50578>:5: SettingWithCopyWarning: \n",
      "A value is trying to be set on a copy of a slice from a DataFrame.\n",
      "Try using .loc[row_indexer,col_indexer] = value instead\n",
      "\n",
      "See the caveats in the documentation: https://pandas.pydata.org/pandas-docs/stable/user_guide/indexing.html#returning-a-view-versus-a-copy\n",
      "  valid['Predictions'] = predictions\n"
     ]
    }
   ],
   "source": [
    "#Plot the data\n",
    "\n",
    "train = df_1[:training_data_len]\n",
    "valid = df_1[training_data_len:]\n",
    "valid['Predictions'] = predictions"
   ]
  },
  {
   "cell_type": "code",
   "execution_count": 138,
   "id": "abb4508c",
   "metadata": {},
   "outputs": [
    {
     "name": "stderr",
     "output_type": "stream",
     "text": [
      "<ipython-input-138-68c1f1660bb8>:8: MatplotlibDeprecationWarning: Adding an axes using the same arguments as a previous axes currently reuses the earlier instance.  In a future version, a new instance will always be created and returned.  Meanwhile, this warning can be suppressed, and the future behavior ensured, by passing a unique label to each axes instance.\n",
      "  ax = plt.axes()\n"
     ]
    },
    {
     "data": {
      "image/png": "[encoded data removed]",
      "text/plain": [
       "<Figure size 1152x576 with 1 Axes>"
      ]
     },
     "metadata": {},
     "output_type": "display_data"
    }
   ],
   "source": [
    "plt.figure(figsize=(16,8))\n",
    "plt.title('Model')\n",
    "plt.xlabel('Date', fontsize=18)\n",
    "plt.ylabel('Index value of NEPSE', fontsize=18)\n",
    "plt.plot(train['Index'])\n",
    "plt.plot(valid[['Index','Predictions']])\n",
    "plt.legend(['Train', 'Val','Predictions'], loc='lower right')\n",
    "ax = plt.axes()\n",
    "plt.grid(False)\n",
    "ax.set_facecolor(\"White\")\n",
    "plt.show()\n"
   ]
  },
  {
   "cell_type": "code",
   "execution_count": 139,
   "id": "2cab8544",
   "metadata": {},
   "outputs": [
    {
     "data": {
      "text/html": [
       "<div>\n",
       "<style scoped>\n",
       "    .dataframe tbody tr th:only-of-type {\n",
       "        vertical-align: middle;\n",
       "    }\n",
       "\n",
       "    .dataframe tbody tr th {\n",
       "        vertical-align: top;\n",
       "    }\n",
       "\n",
       "    .dataframe thead th {\n",
       "        text-align: right;\n",
       "    }\n",
       "</style>\n",
       "<table border=\"1\" class=\"dataframe\">\n",
       "  <thead>\n",
       "    <tr style=\"text-align: right;\">\n",
       "      <th></th>\n",
       "      <th>Index</th>\n",
       "      <th>Predictions</th>\n",
       "    </tr>\n",
       "    <tr>\n",
       "      <th>Date</th>\n",
       "      <th></th>\n",
       "      <th></th>\n",
       "    </tr>\n",
       "  </thead>\n",
       "  <tbody>\n",
       "    <tr>\n",
       "      <th>2019-12-01</th>\n",
       "      <td>1112.86</td>\n",
       "      <td>1112.371582</td>\n",
       "    </tr>\n",
       "    <tr>\n",
       "      <th>2019-12-02</th>\n",
       "      <td>1111.99</td>\n",
       "      <td>1111.401978</td>\n",
       "    </tr>\n",
       "    <tr>\n",
       "      <th>2019-12-03</th>\n",
       "      <td>1115.75</td>\n",
       "      <td>1110.935425</td>\n",
       "    </tr>\n",
       "    <tr>\n",
       "      <th>2019-12-04</th>\n",
       "      <td>1124.47</td>\n",
       "      <td>1111.291626</td>\n",
       "    </tr>\n",
       "    <tr>\n",
       "      <th>2019-12-05</th>\n",
       "      <td>1131.92</td>\n",
       "      <td>1113.162476</td>\n",
       "    </tr>\n",
       "    <tr>\n",
       "      <th>...</th>\n",
       "      <td>...</td>\n",
       "      <td>...</td>\n",
       "    </tr>\n",
       "    <tr>\n",
       "      <th>2021-07-07</th>\n",
       "      <td>2801.13</td>\n",
       "      <td>2670.922852</td>\n",
       "    </tr>\n",
       "    <tr>\n",
       "      <th>2021-07-08</th>\n",
       "      <td>2824.90</td>\n",
       "      <td>2667.921631</td>\n",
       "    </tr>\n",
       "    <tr>\n",
       "      <th>2021-07-11</th>\n",
       "      <td>2899.82</td>\n",
       "      <td>2667.592041</td>\n",
       "    </tr>\n",
       "    <tr>\n",
       "      <th>2021-07-12</th>\n",
       "      <td>2854.77</td>\n",
       "      <td>2680.330078</td>\n",
       "    </tr>\n",
       "    <tr>\n",
       "      <th>2021-07-13</th>\n",
       "      <td>2871.04</td>\n",
       "      <td>2691.533447</td>\n",
       "    </tr>\n",
       "  </tbody>\n",
       "</table>\n",
       "<p>336 rows × 2 columns</p>\n",
       "</div>"
      ],
      "text/plain": [
       "              Index  Predictions\n",
       "Date                            \n",
       "2019-12-01  1112.86  1112.371582\n",
       "2019-12-02  1111.99  1111.401978\n",
       "2019-12-03  1115.75  1110.935425\n",
       "2019-12-04  1124.47  1111.291626\n",
       "2019-12-05  1131.92  1113.162476\n",
       "...             ...          ...\n",
       "2021-07-07  2801.13  2670.922852\n",
       "2021-07-08  2824.90  2667.921631\n",
       "2021-07-11  2899.82  2667.592041\n",
       "2021-07-12  2854.77  2680.330078\n",
       "2021-07-13  2871.04  2691.533447\n",
       "\n",
       "[336 rows x 2 columns]"
      ]
     },
     "execution_count": 139,
     "metadata": {},
     "output_type": "execute_result"
    }
   ],
   "source": [
    "valid"
   ]
  },
  {
   "cell_type": "code",
   "execution_count": 147,
   "id": "c1136b99",
   "metadata": {},
   "outputs": [
    {
     "name": "stdout",
     "output_type": "stream",
     "text": [
      "              Index  Predictions\n",
      "Date                            \n",
      "2021-06-16  2969.70  2839.313232\n",
      "2021-06-17  2968.43  2845.143799\n",
      "2021-06-20  2905.15  2841.842285\n",
      "2021-06-21  2834.41  2823.169678\n",
      "2021-06-22  2913.85  2787.419678\n",
      "2021-06-23  2862.19  2759.649170\n",
      "2021-06-24  2843.00  2731.933350\n",
      "2021-06-27  2870.38  2706.278564\n",
      "2021-06-28  2875.50  2690.403809\n",
      "2021-06-29  2828.01  2683.708008\n",
      "2021-06-30  2823.88  2676.683105\n",
      "2021-07-01  2843.00  2670.775635\n",
      "2021-07-04  2834.52  2669.725342\n",
      "2021-07-05  2822.74  2670.607178\n",
      "2021-07-06  2818.11  2671.109131\n",
      "2021-07-07  2801.13  2670.922852\n",
      "2021-07-08  2824.90  2667.921631\n",
      "2021-07-11  2899.82  2667.592041\n",
      "2021-07-12  2854.77  2680.330078\n",
      "2021-07-13  2871.04  2691.533447\n"
     ]
    }
   ],
   "source": [
    "print(valid.tail(20))\n"
   ]
  },
  {
   "cell_type": "code",
   "execution_count": 141,
   "id": "e8f24e25",
   "metadata": {},
   "outputs": [
    {
     "data": {
      "text/plain": [
       "Date\n",
       "2019-12-01    1112.86\n",
       "2019-12-02    1111.99\n",
       "2019-12-03    1115.75\n",
       "2019-12-04    1124.47\n",
       "2019-12-05    1131.92\n",
       "               ...   \n",
       "2021-07-07    2801.13\n",
       "2021-07-08    2824.90\n",
       "2021-07-11    2899.82\n",
       "2021-07-12    2854.77\n",
       "2021-07-13    2871.04\n",
       "Name: Index, Length: 336, dtype: float64"
      ]
     },
     "execution_count": 141,
     "metadata": {},
     "output_type": "execute_result"
    }
   ],
   "source": [
    "valid['Index']"
   ]
  },
  {
   "cell_type": "code",
   "execution_count": 142,
   "id": "f5a6abe0",
   "metadata": {},
   "outputs": [
    {
     "data": {
      "text/plain": [
       "array([1112.86, 1111.99, 1115.75, 1124.47, 1131.92, 1135.38, 1148.89,\n",
       "       1151.37, 1161.48, 1172.65, 1167.87, 1154.12, 1155.38, 1152.07,\n",
       "       1149.65, 1150.82, 1168.58, 1166.22, 1168.04, 1167.42, 1162.43,\n",
       "       1167.96, 1166.04, 1169.5 , 1166.22, 1182.31, 1200.7 , 1216.93,\n",
       "       1209.6 , 1213.12, 1255.72, 1270.87, 1263.38, 1284.23, 1310.23,\n",
       "       1343.66, 1317.12, 1320.47, 1313.42, 1297.48, 1276.68, 1300.63,\n",
       "       1306.15, 1305.88, 1325.39, 1346.65, 1349.14, 1337.05, 1342.36,\n",
       "       1333.69, 1319.99, 1324.27, 1341.38, 1345.98, 1344.59, 1363.98,\n",
       "       1398.24, 1400.01, 1405.26, 1434.58, 1504.14, 1502.18, 1545.2 ,\n",
       "       1596.13, 1632.18, 1591.36, 1495.3 , 1509.68, 1441.2 , 1435.7 ,\n",
       "       1349.32, 1423.09, 1377.18, 1313.04, 1316.4 , 1272.07, 1255.8 ,\n",
       "       1269.31, 1251.46, 1226.16, 1201.58, 1188.71, 1260.76, 1336.53,\n",
       "       1298.73, 1336.67, 1326.54, 1331.11, 1340.29, 1342.41, 1347.45,\n",
       "       1362.35, 1394.77, 1479.03, 1464.94, 1449.95, 1432.45, 1442.62,\n",
       "       1465.11, 1462.48, 1454.89, 1431.53, 1439.06, 1396.28, 1403.87,\n",
       "       1386.17, 1381.38, 1392.68, 1430.42, 1423.81, 1425.32, 1408.79,\n",
       "       1391.46, 1402.22, 1407.9 , 1391.3 , 1397.57, 1410.34, 1431.61,\n",
       "       1440.94, 1462.04, 1458.04, 1462.67, 1484.99, 1510.57, 1510.42,\n",
       "       1499.98, 1487.81, 1495.16, 1508.21, 1520.69, 1537.25, 1540.51,\n",
       "       1536.04, 1541.4 , 1572.19, 1575.18, 1569.06, 1546.16, 1555.53,\n",
       "       1561.27, 1565.56, 1560.83, 1553.62, 1550.43, 1571.04, 1585.76,\n",
       "       1582.13, 1586.29, 1600.98, 1589.64, 1576.27, 1578.01, 1568.59,\n",
       "       1561.17, 1562.46, 1556.8 , 1570.38, 1583.61, 1597.72, 1606.26,\n",
       "       1647.46, 1645.68, 1640.96, 1637.63, 1643.04, 1640.64, 1636.17,\n",
       "       1648.58, 1652.81, 1678.79, 1707.68, 1718.5 , 1741.81, 1778.13,\n",
       "       1782.81, 1780.43, 1810.11, 1874.82, 1893.25, 1968.27, 1997.06,\n",
       "       2000.4 , 2071.03, 2055.46, 1932.11, 2004.39, 1995.35, 1955.75,\n",
       "       1964.02, 2010.45, 2067.17, 2061.42, 2055.22, 2032.52, 1935.64,\n",
       "       1965.96, 2061.42, 2068.46, 2038.63, 1998.65, 2007.3 , 2012.89,\n",
       "       2062.06, 2087.28, 2175.4 , 2169.04, 2165.5 , 2178.57, 2194.49,\n",
       "       2235.73, 2239.43, 2267.74, 2286.55, 2315.01, 2332.32, 2326.9 ,\n",
       "       2342.77, 2374.64, 2424.84, 2440.88, 2423.09, 2441.85, 2425.3 ,\n",
       "       2370.55, 2408.24, 2473.74, 2466.92, 2475.27, 2524.  , 2561.48,\n",
       "       2534.37, 2543.03, 2526.92, 2493.59, 2586.01, 2601.51, 2611.45,\n",
       "       2636.68, 2640.35, 2607.67, 2586.51, 2599.56, 2554.14, 2474.39,\n",
       "       2515.03, 2455.33, 2416.01, 2506.68, 2485.1 , 2461.88, 2458.49,\n",
       "       2407.26, 2389.19, 2391.75, 2432.15, 2475.09, 2538.47, 2514.39,\n",
       "       2528.96, 2570.26, 2548.97, 2543.52, 2575.67, 2619.03, 2631.9 ,\n",
       "       2657.61, 2658.75, 2674.47, 2671.62, 2674.36, 2691.56, 2714.79,\n",
       "       2735.46, 2699.51, 2661.94, 2664.62, 2632.21, 2648.01, 2572.22,\n",
       "       2506.62, 2599.08, 2585.28, 2611.11, 2665.11, 2652.76, 2654.69,\n",
       "       2649.6 , 2637.13, 2618.57, 2645.85, 2673.32, 2673.88, 2684.01,\n",
       "       2738.3 , 2759.22, 2793.9 , 2780.81, 2787.19, 2820.  , 2823.07,\n",
       "       2816.57, 2815.4 , 2827.93, 2782.69, 2771.15, 2827.13, 2856.68,\n",
       "       2906.89, 2906.7 , 2960.14, 2946.58, 2944.78, 2983.11, 3025.83,\n",
       "       3022.11, 2969.7 , 2968.43, 2905.15, 2834.41, 2913.85, 2862.19,\n",
       "       2843.  , 2870.38, 2875.5 , 2828.01, 2823.88, 2843.  , 2834.52,\n",
       "       2822.74, 2818.11, 2801.13, 2824.9 , 2899.82, 2854.77, 2871.04])"
      ]
     },
     "execution_count": 142,
     "metadata": {},
     "output_type": "execute_result"
    }
   ],
   "source": [
    "y_true=np.array(valid['Index'])\n",
    "y_true\n"
   ]
  },
  {
   "cell_type": "code",
   "execution_count": 143,
   "id": "b6f6ce8c",
   "metadata": {},
   "outputs": [
    {
     "data": {
      "text/plain": [
       "array([1112.3716, 1111.402 , 1110.9354, 1111.2916, 1113.1625, 1116.6625,\n",
       "       1121.187 , 1127.3945, 1134.1998, 1141.7188, 1150.0646, 1157.3092,\n",
       "       1161.2589, 1162.6956, 1161.919 , 1159.5243, 1156.5331, 1155.6565,\n",
       "       1155.9951, 1157.2979, 1158.9789, 1160.0912, 1161.3472, 1162.3131,\n",
       "       1163.3887, 1164.0165, 1166.1996, 1171.3218, 1179.6566, 1188.1381,\n",
       "       1196.0361, 1207.658 , 1222.045 , 1235.4707, 1249.0559, 1264.1368,\n",
       "       1282.3231, 1296.8744, 1307.5697, 1313.46  , 1313.4982, 1307.2053,\n",
       "       1300.6187, 1295.3785, 1291.6854, 1291.8827, 1297.1813, 1305.402 ,\n",
       "       1312.9581, 1319.7607, 1324.1138, 1324.6456, 1323.2012, 1322.8018,\n",
       "       1323.7123, 1325.1986, 1329.2705, 1338.7164, 1350.6036, 1363.1647,\n",
       "       1378.1566, 1401.4629, 1426.7643, 1455.4818, 1489.0245, 1525.7611,\n",
       "       1554.182 , 1560.8645, 1554.6774, 1532.151 , 1501.7451, 1459.4971,\n",
       "       1424.8883, 1393.8745, 1361.4849, 1333.0549, 1305.4982, 1280.2671,\n",
       "       1261.55  , 1247.3732, 1235.006 , 1222.5199, 1210.0802, 1207.9624,\n",
       "       1221.9954, 1240.2031, 1263.4037, 1285.5238, 1304.5669, 1320.1882,\n",
       "       1331.7461, 1339.729 , 1346.1431, 1354.6672, 1373.898 , 1395.6533,\n",
       "       1414.2323, 1425.9836, 1432.9847, 1438.771 , 1442.6167, 1443.734 ,\n",
       "       1439.9823, 1434.5785, 1423.418 , 1411.0953, 1397.4451, 1384.2242,\n",
       "       1374.4828, 1373.0033, 1376.2294, 1382.3164, 1387.3944, 1389.0176,\n",
       "       1389.5851, 1390.1173, 1388.5038, 1386.5497, 1386.228 , 1389.6578,\n",
       "       1396.2052, 1406.5422, 1417.4103, 1427.7499, 1439.1649, 1452.9526,\n",
       "       1466.3608, 1476.3744, 1481.2805, 1483.1624, 1484.4705, 1486.792 ,\n",
       "       1491.5428, 1497.5947, 1503.0775, 1508.1355, 1516.1763, 1525.3732,\n",
       "       1533.2863, 1536.3483, 1537.1311, 1537.0516, 1536.981 , 1536.3159,\n",
       "       1534.447 , 1531.667 , 1531.3485, 1534.5197, 1539.0281, 1544.3522,\n",
       "       1551.3794, 1557.0494, 1559.3802, 1559.506 , 1556.9695, 1552.1395,\n",
       "       1546.6833, 1540.8345, 1537.3029, 1537.4196, 1541.6763, 1549.11  ,\n",
       "       1562.9307, 1578.6697, 1592.903 , 1603.7815, 1611.7081, 1616.2981,\n",
       "       1617.5167, 1618.0225, 1618.4915, 1622.2556, 1631.3286, 1643.9075,\n",
       "       1660.0643, 1681.0454, 1702.7312, 1721.514 , 1739.7822, 1763.7699,\n",
       "       1790.3193, 1824.9722, 1863.5684, 1899.513 , 1938.3741, 1970.8652,\n",
       "       1977.2089, 1976.6406, 1969.839 , 1954.4866, 1937.1945, 1927.4391,\n",
       "       1931.4641, 1942.6415, 1956.0355, 1965.8293, 1958.5558, 1946.3247,\n",
       "       1945.7943, 1953.3212, 1960.8412, 1961.9204, 1960.1934, 1957.6503,\n",
       "       1961.8154, 1972.9451, 1999.2518, 2030.1296, 2059.0515, 2084.3625,\n",
       "       2105.7927, 2127.3447, 2145.9604, 2163.9248, 2181.2007, 2199.3406,\n",
       "       2217.505 , 2231.922 , 2244.033 , 2257.266 , 2276.2327, 2297.871 ,\n",
       "       2315.1277, 2329.8433, 2337.9922, 2332.6978, 2325.648 , 2327.7434,\n",
       "       2333.6719, 2342.4526, 2358.8735, 2382.8262, 2403.5864, 2420.7522,\n",
       "       2430.488 , 2429.151 , 2435.109 , 2446.0833, 2459.8884, 2477.04  ,\n",
       "       2493.929 , 2503.0212, 2502.8533, 2498.9475, 2486.1777, 2458.2073,\n",
       "       2431.7654, 2400.8801, 2366.6902, 2349.3796, 2341.3533, 2337.4397,\n",
       "       2336.6619, 2330.6643, 2320.2896, 2309.3933, 2305.8477, 2313.5854,\n",
       "       2336.485 , 2361.601 , 2386.8513, 2414.421 , 2435.6611, 2448.9746,\n",
       "       2459.974 , 2473.8567, 2488.7727, 2505.65  , 2520.8975, 2534.9648,\n",
       "       2545.329 , 2552.0283, 2557.7932, 2565.2712, 2575.4475, 2579.9321,\n",
       "       2574.7173, 2564.916 , 2548.6726, 2533.571 , 2509.8262, 2475.2903,\n",
       "       2453.7983, 2440.7688, 2439.289 , 2453.402 , 2473.1077, 2494.046 ,\n",
       "       2511.9546, 2523.4822, 2526.5708, 2528.1687, 2532.3713, 2537.2869,\n",
       "       2543.3518, 2557.268 , 2576.5234, 2601.2253, 2623.088 , 2640.8127,\n",
       "       2658.0198, 2672.1587, 2680.964 , 2684.7483, 2686.5308, 2679.4443,\n",
       "       2666.5   , 2660.4666, 2663.473 , 2679.1025, 2699.6785, 2728.5537,\n",
       "       2755.4246, 2776.7378, 2797.17  , 2819.9355, 2839.3132, 2845.1438,\n",
       "       2841.8423, 2823.1697, 2787.4197, 2759.6492, 2731.9333, 2706.2786,\n",
       "       2690.4038, 2683.708 , 2676.683 , 2670.7756, 2669.7253, 2670.6072,\n",
       "       2671.1091, 2670.9229, 2667.9216, 2667.592 , 2680.33  , 2691.5334],\n",
       "      dtype=float32)"
      ]
     },
     "execution_count": 143,
     "metadata": {},
     "output_type": "execute_result"
    }
   ],
   "source": [
    "y_pred=np.array(valid['Predictions'])\n",
    "y_pred"
   ]
  },
  {
   "cell_type": "code",
   "execution_count": 144,
   "id": "df2318b7",
   "metadata": {},
   "outputs": [
    {
     "data": {
      "text/plain": [
       "0.9704204493411582"
      ]
     },
     "execution_count": 144,
     "metadata": {},
     "output_type": "execute_result"
    }
   ],
   "source": [
    "r2_score(y_true, y_pred)"
   ]
  },
  {
   "cell_type": "code",
   "execution_count": 145,
   "id": "c0c400ab",
   "metadata": {},
   "outputs": [
    {
     "data": {
      "text/plain": [
       "0.9704204493411582"
      ]
     },
     "execution_count": 145,
     "metadata": {},
     "output_type": "execute_result"
    }
   ],
   "source": [
    "r2_score(y_true, y_pred,multioutput='variance_weighted')"
   ]
  },
  {
   "cell_type": "code",
   "execution_count": null,
   "id": "2e427e37",
   "metadata": {},
   "outputs": [],
   "source": []
  }
 ],
 "metadata": {
  "kernelspec": {
   "display_name": "Python 3",
   "language": "python",
   "name": "python3"
  },
  "language_info": {
   "codemirror_mode": {
    "name": "ipython",
    "version": 3
   },
   "file_extension": ".py",
   "mimetype": "text/x-python",
   "name": "python",
   "nbconvert_exporter": "python",
   "pygments_lexer": "ipython3",
   "version": "3.8.8"
  }
 },
 "nbformat": 4,
 "nbformat_minor": 5
}
